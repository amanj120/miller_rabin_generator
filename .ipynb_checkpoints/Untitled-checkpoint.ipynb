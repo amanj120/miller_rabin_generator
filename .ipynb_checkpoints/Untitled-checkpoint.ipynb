{
 "cells": [
  {
   "cell_type": "code",
   "execution_count": 111,
   "id": "1288113b",
   "metadata": {},
   "outputs": [],
   "source": [
    "p = 0x38f2e017\n",
    "d = 0x38f2e017\n",
    "a = 0x9"
   ]
  },
  {
   "cell_type": "code",
   "execution_count": 130,
   "id": "be1b9ac7",
   "metadata": {},
   "outputs": [
    {
     "data": {
      "text/plain": [
       "'0xe3cb805c'"
      ]
     },
     "execution_count": 130,
     "metadata": {},
     "output_type": "execute_result"
    }
   ],
   "source": [
    "hex(p << 2)"
   ]
  },
  {
   "cell_type": "code",
   "execution_count": 108,
   "id": "8caee636",
   "metadata": {},
   "outputs": [
    {
     "name": "stdout",
     "output_type": "stream",
     "text": [
      "0x9 0x15217571 0x2a42eae3 0x1 0x9\n",
      "0x9 0x15217571 0x2a42eae3 0x9 0x51\n",
      "0x9 0x15217571 0x2a42eae3 0x9 0x19a1\n",
      "0x9 0x15217571 0x2a42eae3 0x9 0x290d741\n",
      "0x9 0x15217571 0x2a42eae3 0x9 0xdcf59dc\n",
      "0x9 0x15217571 0x2a42eae3 0x27c452f6 0x1b6eff82\n",
      "0x9 0x15217571 0x2a42eae3 0x268c59f 0x1d8b11d7\n",
      "0x9 0x15217571 0x2a42eae3 0x26f2a893 0x59a253d\n",
      "0x9 0x15217571 0x2a42eae3 0x26f2a893 0x3b2a27a\n",
      "0x9 0x15217571 0x2a42eae3 0xca1f9c5 0x1d5add8f\n",
      "0x9 0x15217571 0x2a42eae3 0xca1f9c5 0x1ca6838c\n",
      "0x9 0x15217571 0x2a42eae3 0x1811830f 0x28badbf2\n",
      "0x9 0x15217571 0x2a42eae3 0x1811830f 0x1c0cb947\n",
      "0x9 0x15217571 0x2a42eae3 0x38c9061 0xdf6fbb6\n",
      "0x9 0x15217571 0x2a42eae3 0x2b99e84 0x81acc7f\n",
      "0x9 0x15217571 0x2a42eae3 0x1560c9a 0x3df955d\n",
      "0x9 0x15217571 0x2a42eae3 0x1560c9a 0x195bfdcc\n",
      "0x9 0x15217571 0x2a42eae3 0x1ced5522 0x1b6276f7\n",
      "0x9 0x15217571 0x2a42eae3 0x1ced5522 0x151b4e1\n",
      "0x9 0x15217571 0x2a42eae3 0x1ced5522 0xa030485\n",
      "0x9 0x15217571 0x2a42eae3 0x1ced5522 0x341e26a\n",
      "0x9 0x15217571 0x2a42eae3 0x1ced5522 0x3f5eed\n",
      "0x9 0x15217571 0x2a42eae3 0x1a5bc82e 0x91d2917\n",
      "0x9 0x15217571 0x2a42eae3 0x1a5bc82e 0x1ea2d2ee\n",
      "0x9 0x15217571 0x2a42eae3 0x1a5bc82e 0x14122539\n",
      "0x9 0x15217571 0x2a42eae3 0x2077aef6 0xc53386a\n",
      "0x9 0x15217571 0x2a42eae3 0x2077aef6 0x1087681c\n",
      "0x9 0x15217571 0x2a42eae3 0x1dfbe25d 0x1bcae5be\n",
      "0x9 0x15217571 0x2a42eae3 0x1dfbe25d 0x27998b74\n",
      "0x9 0x15217571 0x2a42eae3 0x11d77713 0x7b6a7ef\n",
      "0x9 0x15217571 0x2a42eae3 0x11d77713 0x927d2d1\n",
      "0x9 0x15217571 0x2a42eae3 0x11d77713 0x3c6d514\n"
     ]
    },
    {
     "data": {
      "text/plain": [
       "'0x11d77713'"
      ]
     },
     "execution_count": 108,
     "metadata": {},
     "output_type": "execute_result"
    }
   ],
   "source": [
    "hex(admodp(a, d, p))"
   ]
  },
  {
   "cell_type": "code",
   "execution_count": 104,
   "id": "6e2346fc",
   "metadata": {},
   "outputs": [],
   "source": [
    "def admodp(a, d, p):\n",
    "    prod = 1\n",
    "    tmp = a\n",
    "    for i in range(32):\n",
    "        print(hex(a), hex(d), hex(p), hex(prod), hex(tmp))\n",
    "        if d & (1 << i) != 0:\n",
    "            prod = (prod * tmp) % p\n",
    "        tmp = (tmp * tmp) % p\n",
    "    return prod"
   ]
  },
  {
   "cell_type": "code",
   "execution_count": 97,
   "id": "d12fc86b",
   "metadata": {},
   "outputs": [],
   "source": [
    "pt = 251\n",
    "for i in range(2, 24):\n",
    "    for j in range(2, 9):\n",
    "        calc = ((i ** j) % pt)\n",
    "        if (admodp(i,j,pt) != calc):\n",
    "            print(i, j, pt, admodp(i, j, pt), calc)\n",
    "            "
   ]
  },
  {
   "cell_type": "code",
   "execution_count": 134,
   "id": "54f09926",
   "metadata": {},
   "outputs": [
    {
     "data": {
      "text/plain": [
       "267548.71794871794"
      ]
     },
     "execution_count": 134,
     "metadata": {},
     "output_type": "execute_result"
    }
   ],
   "source": [
    "10434400/39"
   ]
  },
  {
   "cell_type": "code",
   "execution_count": 135,
   "id": "422f563b",
   "metadata": {},
   "outputs": [
    {
     "data": {
      "text/plain": [
       "33389.11188811189"
      ]
     },
     "execution_count": 135,
     "metadata": {},
     "output_type": "execute_result"
    }
   ],
   "source": [
    "14323929/429"
   ]
  },
  {
   "cell_type": "code",
   "execution_count": 137,
   "id": "e594ab2a",
   "metadata": {},
   "outputs": [
    {
     "data": {
      "text/plain": [
       "8.013052843252714"
      ]
     },
     "execution_count": 137,
     "metadata": {},
     "output_type": "execute_result"
    }
   ],
   "source": [
    "267548.71794871794/33389.11188811189"
   ]
  },
  {
   "cell_type": "code",
   "execution_count": 138,
   "id": "c84e9e8a",
   "metadata": {},
   "outputs": [
    {
     "data": {
      "text/plain": [
       "354557.8484848485"
      ]
     },
     "execution_count": 138,
     "metadata": {},
     "output_type": "execute_result"
    }
   ],
   "source": [
    "11700409/33"
   ]
  },
  {
   "cell_type": "code",
   "execution_count": 139,
   "id": "c55f2a2e",
   "metadata": {},
   "outputs": [
    {
     "data": {
      "text/plain": [
       "188856.0487804878"
      ]
     },
     "execution_count": 139,
     "metadata": {},
     "output_type": "execute_result"
    }
   ],
   "source": [
    "15486196/82"
   ]
  },
  {
   "cell_type": "code",
   "execution_count": 140,
   "id": "0e458f06",
   "metadata": {},
   "outputs": [
    {
     "data": {
      "text/plain": [
       "37268.03157894737"
      ]
     },
     "execution_count": 140,
     "metadata": {},
     "output_type": "execute_result"
    }
   ],
   "source": [
    "3540463/95"
   ]
  },
  {
   "cell_type": "code",
   "execution_count": 141,
   "id": "dbd51fc3",
   "metadata": {},
   "outputs": [
    {
     "data": {
      "text/plain": [
       "5.067511001395299"
      ]
     },
     "execution_count": 141,
     "metadata": {},
     "output_type": "execute_result"
    }
   ],
   "source": [
    "188856/37268"
   ]
  },
  {
   "cell_type": "code",
   "execution_count": null,
   "id": "2855d025",
   "metadata": {},
   "outputs": [],
   "source": [
    "# e7067afa60890f5c41b26c1f160e00852c35c451739066fd48f5cfb25f1c0eeda6f1eb04475df0229c5e1f91e2cbc1dac134eb7647712e9696b2a372761d02a2aa8e1425c192030b7c54d007098def4bec7a47b1db7cf3243c8670d473748e85cd8221b616af3b744a4318bea074043b9fcbbeb7406cb46713fc46eea70c63176c727ba165f85c8ca2a4ba65d5387de88b5103d859b82125553a8a90a0f19cca0d8345d855b8d23dcf81e7ecad2ce5b3f84bb73363e69bc59a99f4d5e41985342d8d0618e95156e2d4bb07fa339afbc5e8d1989e4c02d1c5b4db50b0ebf72e15a4b5c2067c9adbda886cfe6eb22a2c4a8596cd874df67404ef5981d65379539f\n",
    "# took 393 runs and 638650170 us(2048)"
   ]
  }
 ],
 "metadata": {
  "kernelspec": {
   "display_name": "Python 3 (ipykernel)",
   "language": "python",
   "name": "python3"
  },
  "language_info": {
   "codemirror_mode": {
    "name": "ipython",
    "version": 3
   },
   "file_extension": ".py",
   "mimetype": "text/x-python",
   "name": "python",
   "nbconvert_exporter": "python",
   "pygments_lexer": "ipython3",
   "version": "3.9.7"
  }
 },
 "nbformat": 4,
 "nbformat_minor": 5
}
