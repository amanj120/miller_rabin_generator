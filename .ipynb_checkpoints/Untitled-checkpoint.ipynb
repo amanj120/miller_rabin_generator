{
 "cells": [
  {
   "cell_type": "code",
   "execution_count": 111,
   "id": "597d15d4",
   "metadata": {},
   "outputs": [],
   "source": [
    "p = 0x38f2e017\n",
    "d = 0x38f2e017\n",
    "a = 0x9"
   ]
  },
  {
   "cell_type": "code",
   "execution_count": 130,
   "id": "1a869894",
   "metadata": {},
   "outputs": [
    {
     "data": {
      "text/plain": [
       "'0xe3cb805c'"
      ]
     },
     "execution_count": 130,
     "metadata": {},
     "output_type": "execute_result"
    }
   ],
   "source": [
    "hex(p << 2)"
   ]
  },
  {
   "cell_type": "code",
   "execution_count": 108,
   "id": "ea67ea3b",
   "metadata": {},
   "outputs": [
    {
     "name": "stdout",
     "output_type": "stream",
     "text": [
      "0x9 0x15217571 0x2a42eae3 0x1 0x9\n",
      "0x9 0x15217571 0x2a42eae3 0x9 0x51\n",
      "0x9 0x15217571 0x2a42eae3 0x9 0x19a1\n",
      "0x9 0x15217571 0x2a42eae3 0x9 0x290d741\n",
      "0x9 0x15217571 0x2a42eae3 0x9 0xdcf59dc\n",
      "0x9 0x15217571 0x2a42eae3 0x27c452f6 0x1b6eff82\n",
      "0x9 0x15217571 0x2a42eae3 0x268c59f 0x1d8b11d7\n",
      "0x9 0x15217571 0x2a42eae3 0x26f2a893 0x59a253d\n",
      "0x9 0x15217571 0x2a42eae3 0x26f2a893 0x3b2a27a\n",
      "0x9 0x15217571 0x2a42eae3 0xca1f9c5 0x1d5add8f\n",
      "0x9 0x15217571 0x2a42eae3 0xca1f9c5 0x1ca6838c\n",
      "0x9 0x15217571 0x2a42eae3 0x1811830f 0x28badbf2\n",
      "0x9 0x15217571 0x2a42eae3 0x1811830f 0x1c0cb947\n",
      "0x9 0x15217571 0x2a42eae3 0x38c9061 0xdf6fbb6\n",
      "0x9 0x15217571 0x2a42eae3 0x2b99e84 0x81acc7f\n",
      "0x9 0x15217571 0x2a42eae3 0x1560c9a 0x3df955d\n",
      "0x9 0x15217571 0x2a42eae3 0x1560c9a 0x195bfdcc\n",
      "0x9 0x15217571 0x2a42eae3 0x1ced5522 0x1b6276f7\n",
      "0x9 0x15217571 0x2a42eae3 0x1ced5522 0x151b4e1\n",
      "0x9 0x15217571 0x2a42eae3 0x1ced5522 0xa030485\n",
      "0x9 0x15217571 0x2a42eae3 0x1ced5522 0x341e26a\n",
      "0x9 0x15217571 0x2a42eae3 0x1ced5522 0x3f5eed\n",
      "0x9 0x15217571 0x2a42eae3 0x1a5bc82e 0x91d2917\n",
      "0x9 0x15217571 0x2a42eae3 0x1a5bc82e 0x1ea2d2ee\n",
      "0x9 0x15217571 0x2a42eae3 0x1a5bc82e 0x14122539\n",
      "0x9 0x15217571 0x2a42eae3 0x2077aef6 0xc53386a\n",
      "0x9 0x15217571 0x2a42eae3 0x2077aef6 0x1087681c\n",
      "0x9 0x15217571 0x2a42eae3 0x1dfbe25d 0x1bcae5be\n",
      "0x9 0x15217571 0x2a42eae3 0x1dfbe25d 0x27998b74\n",
      "0x9 0x15217571 0x2a42eae3 0x11d77713 0x7b6a7ef\n",
      "0x9 0x15217571 0x2a42eae3 0x11d77713 0x927d2d1\n",
      "0x9 0x15217571 0x2a42eae3 0x11d77713 0x3c6d514\n"
     ]
    },
    {
     "data": {
      "text/plain": [
       "'0x11d77713'"
      ]
     },
     "execution_count": 108,
     "metadata": {},
     "output_type": "execute_result"
    }
   ],
   "source": [
    "hex(admodp(a, d, p))"
   ]
  },
  {
   "cell_type": "code",
   "execution_count": 104,
   "id": "94eecba7",
   "metadata": {},
   "outputs": [],
   "source": [
    "def admodp(a, d, p):\n",
    "    prod = 1\n",
    "    tmp = a\n",
    "    for i in range(32):\n",
    "        print(hex(a), hex(d), hex(p), hex(prod), hex(tmp))\n",
    "        if d & (1 << i) != 0:\n",
    "            prod = (prod * tmp) % p\n",
    "        tmp = (tmp * tmp) % p\n",
    "    return prod"
   ]
  },
  {
   "cell_type": "code",
   "execution_count": 97,
   "id": "5a5182b3",
   "metadata": {},
   "outputs": [],
   "source": [
    "pt = 251\n",
    "for i in range(2, 24):\n",
    "    for j in range(2, 9):\n",
    "        calc = ((i ** j) % pt)\n",
    "        if (admodp(i,j,pt) != calc):\n",
    "            print(i, j, pt, admodp(i, j, pt), calc)\n",
    "            "
   ]
  },
  {
   "cell_type": "code",
   "execution_count": 131,
   "id": "688cc88e",
   "metadata": {},
   "outputs": [
    {
     "data": {
      "text/plain": [
       "360847362"
      ]
     },
     "execution_count": 131,
     "metadata": {},
     "output_type": "execute_result"
    }
   ],
   "source": [
    "hex(0x4e74f819 - 0x38f2e017)"
   ]
  },
  {
   "cell_type": "code",
   "execution_count": null,
   "id": "41566587",
   "metadata": {},
   "outputs": [],
   "source": []
  },
  {
   "cell_type": "code",
   "execution_count": null,
   "id": "32201fa0",
   "metadata": {},
   "outputs": [],
   "source": []
  }
 ],
 "metadata": {
  "kernelspec": {
   "display_name": "Python 3 (ipykernel)",
   "language": "python",
   "name": "python3"
  },
  "language_info": {
   "codemirror_mode": {
    "name": "ipython",
    "version": 3
   },
   "file_extension": ".py",
   "mimetype": "text/x-python",
   "name": "python",
   "nbconvert_exporter": "python",
   "pygments_lexer": "ipython3",
   "version": "3.9.7"
  }
 },
 "nbformat": 4,
 "nbformat_minor": 5
}
